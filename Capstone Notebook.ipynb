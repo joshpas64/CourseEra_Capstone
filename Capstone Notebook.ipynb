{
    "cells": [
        {
            "metadata": {
                "collapsed": true
            },
            "cell_type": "markdown",
            "source": "# IBM Data Science Professional Capstone Project\n\n`Name`: **Joshua Pascascio**\n`Occupation`: **Software Engineer**\n`Program`: **IBM Data Science Professional Certificate**\n\nThis will be the main notebook and interactive kernel and report \nfor the **IBM Data Science Capstone Project**"
        },
        {
            "metadata": {},
            "cell_type": "markdown",
            "source": "## Week 1 Assignment"
        },
        {
            "metadata": {},
            "cell_type": "code",
            "source": "import pandas as pd\nimport numpy as np\n\nprint(\"Hello Capstone Project Course!\")",
            "execution_count": 3,
            "outputs": [
                {
                    "output_type": "stream",
                    "text": "Hello Capstone Project Course!\n",
                    "name": "stdout"
                }
            ]
        },
        {
            "metadata": {},
            "cell_type": "code",
            "source": "",
            "execution_count": null,
            "outputs": []
        }
    ],
    "metadata": {
        "kernelspec": {
            "name": "python3",
            "display_name": "Python 3.7",
            "language": "python"
        },
        "language_info": {
            "name": "python",
            "version": "3.7.10",
            "mimetype": "text/x-python",
            "codemirror_mode": {
                "name": "ipython",
                "version": 3
            },
            "pygments_lexer": "ipython3",
            "nbconvert_exporter": "python",
            "file_extension": ".py"
        }
    },
    "nbformat": 4,
    "nbformat_minor": 1
}